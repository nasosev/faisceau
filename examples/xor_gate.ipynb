{
 "cells": [
  {
   "cell_type": "markdown",
   "metadata": {},
   "source": [
    "## XOR GATE\n",
    "\n",
    "This example shows how to model a XOR gate as a cellular sheaf.\n",
    "This is Example 9.4 from [EAT Chapter 9](https://www.math.upenn.edu/~ghrist/EAT/EATchapter9.pdf)."
   ]
  },
  {
   "cell_type": "markdown",
   "metadata": {},
   "source": [
    "First we load the _faisceau_ source files: "
   ]
  },
  {
   "cell_type": "code",
   "execution_count": 1,
   "metadata": {},
   "outputs": [],
   "source": [
    "#load \"loader.fsx\""
   ]
  },
  {
   "cell_type": "markdown",
   "metadata": {},
   "source": [
    "Then we define a 'Y'-shaped simplicial complex $X$:"
   ]
  },
  {
   "cell_type": "code",
   "execution_count": 2,
   "metadata": {},
   "outputs": [],
   "source": [
    "let X =\n",
    "    [ [ 1; 3 ]\n",
    "      [ 2; 3 ]\n",
    "      [ 3; 4 ] ]\n",
    "    |> Complex.make"
   ]
  },
  {
   "cell_type": "markdown",
   "metadata": {},
   "source": [
    "Optional: uncomment and run the cell below to load `XPlot.Plotly` and display a plot of the complex. (You will need to set the path to `XPlot.Plotly` within `loader_plot.fsx`.) The graph will look like:\n",
    "``` \n",
    " 1\n",
    "  o\n",
    "   \\\n",
    "    \\ \n",
    "     \\ \n",
    "      o-------------o  4\n",
    "     / 3         \n",
    "    /\n",
    "   / \n",
    "  o\n",
    " 2```"
   ]
  },
  {
   "cell_type": "code",
   "execution_count": 3,
   "metadata": {},
   "outputs": [],
   "source": [
    "// #load \"loader_plot.fsx\"\n",
    "\n",
    "// let coords =\n",
    "//     [ 0, 1\n",
    "//       0, -1\n",
    "//       1, 0\n",
    "//       2, 0 ]\n",
    "\n",
    "// View.complex X coords"
   ]
  },
  {
   "cell_type": "markdown",
   "metadata": {},
   "source": [
    "Now we define a sheaf $F$ on $X$ with the following nontrivial restriction maps:\n",
    "\n",
    "$ \\{3\\} \\to \\{1,3\\} , \\qquad \\mathrm{Proj}_1 : \\mathbb{F}_2  \\oplus \\mathbb{F}_2 \\to \\mathbb{F}_2  $\n",
    "\n",
    "$ \\{3\\} \\to \\{2,3\\} , \\qquad \\mathrm{Proj}_2 : \\mathbb{F}_2  \\oplus \\mathbb{F}_2 \\to \\mathbb{F}_2  $\n",
    "\n",
    "$ \\{3\\} \\to \\{3,4\\} , \\qquad + : \\mathbb{F}_2  \\oplus \\mathbb{F}_2 \\to \\mathbb{F}_2  $.\n",
    "\n",
    "All other maps are the identity."
   ]
  },
  {
   "cell_type": "code",
   "execution_count": 4,
   "metadata": {},
   "outputs": [],
   "source": [
    "let proj1 = [ [ 1; 0 ] ] |> Matrix.make\n",
    "let proj2 = [ [ 0; 1 ] ] |> Matrix.make\n",
    "let plus = [ [ 1; 1 ] ] |> Matrix.make\n",
    "\n",
    "let id1 = Nat 1 |> Matrix.identity\n",
    "let id2 = Nat 2 |> Matrix.identity\n",
    "\n",
    "let M =\n",
    "    [ [ 1; 3 ], [ 3 ], proj1\n",
    "      [ 2; 3 ], [ 3 ], proj2\n",
    "      [ 3; 4 ], [ 3 ], plus\n",
    "      \n",
    "      [ 1 ], [ 1 ], id1\n",
    "      [ 2 ], [ 2 ], id1\n",
    "      [ 3 ], [ 3 ], id2\n",
    "      [ 4 ], [ 4 ], id1\n",
    "      [ 1; 3 ], [ 1; 3 ], id1\n",
    "      [ 2; 3 ], [ 2; 3 ], id1\n",
    "      [ 3; 4 ], [ 3; 4 ], id1\n",
    "      [ 1; 3 ], [ 1 ], id1\n",
    "      [ 2; 3 ], [ 2 ], id1\n",
    "      [ 3; 4 ], [ 4 ], id1 ]\n",
    "\n",
    "let F = Sheaf.make (X, M)"
   ]
  },
  {
   "cell_type": "markdown",
   "metadata": {},
   "source": [
    "Global sections of a sheaf are isomorphic to its zeroth cohomology,\n",
    "\n",
    "$$ F(X) \\simeq H^0 (X,F). $$\n",
    "\n",
    "For our XOR gate, global sections correspond to the truth table:\n",
    "\n",
    "```\n",
    "In   Out\n",
    "0 0 | 0\n",
    "0 1 | 1\n",
    "1 0 | 1\n",
    "1 1 | 0 \n",
    "```\n",
    "\n",
    "The truth table is spanned by the middle two rows, thus the space of global sections is two-dimensional.\n",
    "We can confirm this by computing the cobetti numbers, \n",
    "\n",
    "$$\\beta^i := \\mathrm{dim} H^i(X,F).$$ "
   ]
  },
  {
   "cell_type": "code",
   "execution_count": 5,
   "metadata": {},
   "outputs": [
    {
     "data": {
      "text/plain": [
       "seq [Nat 2; Nat 0]"
      ]
     },
     "execution_count": 5,
     "metadata": {},
     "output_type": "execute_result"
    }
   ],
   "source": [
    "Sheaf.cobetti F"
   ]
  },
  {
   "cell_type": "markdown",
   "metadata": {},
   "source": [
    "We can also get a basis for the global sections by computing the sheaf cohomology. From this we will be able to deduce the truth table of the XOR gate."
   ]
  },
  {
   "cell_type": "code",
   "execution_count": 6,
   "metadata": {},
   "outputs": [
    {
     "data": {
      "text/plain": [
       "[[1; 1]\n",
       " [1; 0]\n",
       " [1; 1]\n",
       " [1; 0]\n",
       " [0; 1]]\n",
       "\n",
       "[[]\n",
       " []\n",
       " []]"
      ]
     },
     "execution_count": 6,
     "metadata": {},
     "output_type": "execute_result"
    }
   ],
   "source": [
    "Sheaf.cohomology F"
   ]
  },
  {
   "cell_type": "markdown",
   "metadata": {},
   "source": [
    "(The rows of these matrices are always ordered lexicographically with respect to the input labels.)\n",
    "\n",
    "A basis of $H^0(X,F)$ is then\n",
    "\n",
    "$$\n",
    "\\begin{matrix}\n",
    "\\{1\\}\\\\\n",
    "\\{3\\}\\\\\n",
    "\\{3_1\\}\\\\\n",
    "\\{3_2\\}\\\\\n",
    "\\{4\\}\n",
    "\\end{matrix}\n",
    "\\begin{bmatrix}\n",
    "1 & 1\\\\\n",
    "1 & 0\\\\\n",
    "1 & 1\\\\\n",
    "1 & 0\\\\\n",
    "0 & 1.\n",
    "\\end{bmatrix}$$\n",
    "\n",
    "We can read off two rows of the truth table from the values of the inputs $\\{1\\}, \\{2\\}$, and the output $\\{4\\}$ in each column of the basis: \n",
    "\n",
    "```\n",
    "{1} {2}   {4}\n",
    " 1   1  |  0\n",
    " 1   0  |  1\n",
    "```\n",
    "\n",
    "The remaining two rows are obtained by linear combinations."
   ]
  }
 ],
 "metadata": {
  "kernelspec": {
   "display_name": "F#",
   "language": "fsharp",
   "name": "ifsharp"
  },
  "language": "fsharp",
  "language_info": {
   "codemirror_mode": "",
   "file_extension": ".fs",
   "mimetype": "text/x-fsharp",
   "name": "fsharp",
   "nbconvert_exporter": "",
   "pygments_lexer": "",
   "version": "4.3.1.0"
  }
 },
 "nbformat": 4,
 "nbformat_minor": 2
}
