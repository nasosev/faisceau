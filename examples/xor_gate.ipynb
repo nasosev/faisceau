{
 "cells": [
  {
   "cell_type": "markdown",
   "metadata": {},
   "source": [
    "## XOR GATE\n",
    "\n",
    "This example shows how to model a XOR gate as a cellular sheaf.\n",
    "This is Example 9.4 from [EAT Chapter 9](https://www.math.upenn.edu/~ghrist/EAT/EATchapter9.pdf)."
   ]
  },
  {
   "cell_type": "markdown",
   "metadata": {},
   "source": [
    "First we load the _faisceau_ source files: "
   ]
  },
  {
   "cell_type": "code",
   "execution_count": 1,
   "metadata": {},
   "outputs": [],
   "source": [
    "#load \"loader.fsx\""
   ]
  },
  {
   "cell_type": "markdown",
   "metadata": {},
   "source": [
    "Then we define a 'Y'-shaped simplcial complex $X$:"
   ]
  },
  {
   "cell_type": "code",
   "execution_count": 2,
   "metadata": {},
   "outputs": [],
   "source": [
    "let X =\n",
    "    [ [ 0; 2 ]\n",
    "      [ 1; 2 ]\n",
    "      [ 2; 3 ] ]\n",
    "    |> Complex.make"
   ]
  },
  {
   "cell_type": "markdown",
   "metadata": {},
   "source": [
    "Optional: load `XPlot.Plotly` and display a plot of the complex. (You will need to set the path within `plot.fsx`.) The graph will look like:\n",
    "``` \n",
    " 0\n",
    "  o\n",
    "   \\\n",
    "    \\ \n",
    "     \\ \n",
    "      o-------------o  3\n",
    "     / 2         \n",
    "    /\n",
    "   / \n",
    "  o\n",
    " 1```"
   ]
  },
  {
   "cell_type": "code",
   "execution_count": 3,
   "metadata": {},
   "outputs": [],
   "source": [
    "// #load \"plot.fsx\"\n",
    "\n",
    "// let coords =\n",
    "//     [ (0, 1)\n",
    "//       (0, -1)\n",
    "//       (1, 0)\n",
    "//       (2, 0) ]\n",
    "\n",
    "// View.complex X coords"
   ]
  },
  {
   "cell_type": "markdown",
   "metadata": {},
   "source": [
    "Now we define a sheaf $F$ on $X$ with the following restriction maps:\n",
    "\n",
    "$ \\{0\\} \\to \\{0,2\\} , \\qquad \\mathrm{id} : \\mathbb{F}_2 \\to \\mathbb{F}_2  $\n",
    "\n",
    "$ \\{1\\} \\to \\{1,2\\} , \\qquad \\mathrm{id} : \\mathbb{F}_2 \\to \\mathbb{F}_2  $\n",
    "\n",
    "$ \\{3\\} \\to \\{2,3\\} , \\qquad \\mathrm{id} : \\mathbb{F}_2 \\to \\mathbb{F}_2  $\n",
    "\n",
    "$ \\{2\\} \\to \\{0,2\\} , \\qquad \\mathrm{Proj}_1 : \\mathbb{F}_2  \\oplus \\mathbb{F}_2 \\to \\mathbb{F}_2  $\n",
    "\n",
    "$ \\{2\\} \\to \\{1,2\\} , \\qquad \\mathrm{Proj}_2 : \\mathbb{F}_2  \\oplus \\mathbb{F}_2 \\to \\mathbb{F}_2  $\n",
    "\n",
    "$ \\{2\\} \\to \\{2,3\\} , \\qquad + : \\mathbb{F}_2  \\oplus \\mathbb{F}_2 \\to \\mathbb{F}_2  $"
   ]
  },
  {
   "cell_type": "code",
   "execution_count": 4,
   "metadata": {},
   "outputs": [],
   "source": [
    "let iden = Nat 1 |> Matrix.identity\n",
    "let plus = [ [ 1; 1 ] ] |> Matrix.make\n",
    "let proj1 = [ [ 1; 0 ] ] |> Matrix.make\n",
    "let proj2 = [ [ 0; 1 ] ] |> Matrix.make\n",
    "\n",
    "let F =\n",
    "    [ [ 0; 2 ], [ 0 ], iden\n",
    "      [ 1; 2 ], [ 1 ], iden\n",
    "      [ 2; 3 ], [ 3 ], iden\n",
    "      [ 0; 2 ], [ 2 ], plus\n",
    "      [ 1; 2 ], [ 2 ], proj1\n",
    "      [ 2; 3 ], [ 2 ], proj2 ]\n",
    "    |> Sheaf.make"
   ]
  },
  {
   "cell_type": "markdown",
   "metadata": {},
   "source": [
    "The global sections of the sheaf are isomorphic to the zeroth cohomology,\n",
    "$$ F(X) = H^0 (X,F) $$\n",
    "\n",
    "For our XOR gate, global sections correspond to the truth table:\n",
    "\n",
    "```\n",
    "In   Out\n",
    "0 0 | 0\n",
    "0 1 | 1\n",
    "1 0 | 1\n",
    "1 1 | 0 \n",
    "```\n",
    "\n",
    "The truth table is spanned by the middle two rows, thus the space of global sections is two-dimensional.\n",
    "We can confirm this by computing the cohomology."
   ]
  },
  {
   "cell_type": "markdown",
   "metadata": {},
   "source": [
    "To check just the dimensions, we compute the cobetti numers, $\\beta^i := \\mathrm{dim} H^i(X,F)$: "
   ]
  },
  {
   "cell_type": "code",
   "execution_count": 5,
   "metadata": {},
   "outputs": [
    {
     "data": {
      "text/plain": [
       "[Nat 2; Nat 0]"
      ]
     },
     "execution_count": 5,
     "metadata": {},
     "output_type": "execute_result"
    }
   ],
   "source": [
    "Sheaf.cobetti F"
   ]
  },
  {
   "cell_type": "markdown",
   "metadata": {},
   "source": [
    "We can get also get a basis for the global sections by computing the sheaf cohomology:"
   ]
  },
  {
   "cell_type": "code",
   "execution_count": 6,
   "metadata": {},
   "outputs": [
    {
     "data": {
      "text/plain": [
       "[[1; 1; 1; 0; 0]\n",
       " [1; 0; 0; 1; 1]]\n",
       "\n",
       "[]"
      ]
     },
     "execution_count": 6,
     "metadata": {},
     "output_type": "execute_result"
    }
   ],
   "source": [
    "Sheaf.cohomology F"
   ]
  },
  {
   "cell_type": "markdown",
   "metadata": {},
   "source": [
    "(The columns of these matrices are always ordered lexicographically with respect to the input labels.)\n",
    "\n",
    "A basis for $H^0(X,F)$ is then\n",
    "\n",
    "$$ \\begin{bmatrix}\n",
    "\\{0\\} & \\{1\\} & \\{2\\} & \\{2\\} & \\{3\\}\\\\\n",
    "1 & 1 & 1 & 0 & 0\\\\\n",
    "1 & 0 & 0 & 1 & 1\n",
    "\\end{bmatrix}$$\n",
    "\n",
    "We can read off the truth table from the values of the inputs $\\{0\\}, \\{1\\}$ and the output $\\{3\\}$: \n",
    "\n",
    "```\n",
    "{0} {1}   {3}\n",
    " 1   1  |  0\n",
    " 1   0  |  1\n",
    "```\n",
    "\n",
    "The remaining two rows of the truth table are obtained by linear combinations."
   ]
  }
 ],
 "metadata": {
  "kernelspec": {
   "display_name": "F#",
   "language": "fsharp",
   "name": "ifsharp"
  },
  "language": "fsharp",
  "language_info": {
   "codemirror_mode": "",
   "file_extension": ".fs",
   "mimetype": "text/x-fsharp",
   "name": "fsharp",
   "nbconvert_exporter": "",
   "pygments_lexer": "",
   "version": "4.3.1.0"
  }
 },
 "nbformat": 4,
 "nbformat_minor": 2
}
