{
 "cells": [
  {
   "cell_type": "markdown",
   "metadata": {},
   "source": [
    "## XOR GATE\n",
    "\n",
    "This example shows how to model a XOR gate as a cellular sheaf.\n",
    "This is Example 9.4 from [EAT Chapter 9](https://www.math.upenn.edu/~ghrist/EAT/EATchapter9.pdf)."
   ]
  },
  {
   "cell_type": "markdown",
   "metadata": {},
   "source": [
    "First we load the _faisceau_ source files: "
   ]
  },
  {
   "cell_type": "code",
   "execution_count": 10,
   "metadata": {},
   "outputs": [],
   "source": [
    "#load \"loader.fsx\""
   ]
  },
  {
   "cell_type": "markdown",
   "metadata": {},
   "source": [
    "Then we define a 'Y'-shaped simplicial complex $X$:"
   ]
  },
  {
   "cell_type": "code",
   "execution_count": 11,
   "metadata": {},
   "outputs": [],
   "source": [
    "let X =\n",
    "    [ [ 0; 2 ]\n",
    "      [ 1; 2 ]\n",
    "      [ 2; 3 ] ]\n",
    "    |> Complex.make"
   ]
  },
  {
   "cell_type": "markdown",
   "metadata": {},
   "source": [
    "Optional: load `XPlot.Plotly` and display a plot of the complex. (You will need to set the path within `plot.fsx`.) The graph will look like:\n",
    "``` \n",
    " 0\n",
    "  o\n",
    "   \\\n",
    "    \\ \n",
    "     \\ \n",
    "      o-------------o  3\n",
    "     / 2         \n",
    "    /\n",
    "   / \n",
    "  o\n",
    " 1```"
   ]
  },
  {
   "cell_type": "code",
   "execution_count": 12,
   "metadata": {},
   "outputs": [],
   "source": [
    "// #load \"plot.fsx\"\n",
    "\n",
    "// let coords =\n",
    "//     [ (0, 1)\n",
    "//       (0, -1)\n",
    "//       (1, 0)\n",
    "//       (2, 0) ]\n",
    "\n",
    "// View.complex X coords"
   ]
  },
  {
   "cell_type": "markdown",
   "metadata": {},
   "source": [
    "Now we define a sheaf $F$ on $X$ with the following nontrivial restriction maps:\n",
    "\n",
    "$ \\{2\\} \\to \\{0,2\\} , \\qquad \\mathrm{Proj}_1 : \\mathbb{F}_2  \\oplus \\mathbb{F}_2 \\to \\mathbb{F}_2  $\n",
    "\n",
    "$ \\{2\\} \\to \\{1,2\\} , \\qquad \\mathrm{Proj}_2 : \\mathbb{F}_2  \\oplus \\mathbb{F}_2 \\to \\mathbb{F}_2  $\n",
    "\n",
    "$ \\{2\\} \\to \\{2,3\\} , \\qquad + : \\mathbb{F}_2  \\oplus \\mathbb{F}_2 \\to \\mathbb{F}_2  $.\n",
    "\n",
    "All other maps are the identity."
   ]
  },
  {
   "cell_type": "code",
   "execution_count": 13,
   "metadata": {},
   "outputs": [],
   "source": [
    "let proj1 = [ [ 1; 0 ] ] |> Matrix.make\n",
    "let proj2 = [ [ 0; 1 ] ] |> Matrix.make\n",
    "let plus = [ [ 1; 1 ] ] |> Matrix.make\n",
    "\n",
    "let id1 = Nat 1 |> Matrix.identity\n",
    "let id2 = Nat 2 |> Matrix.identity\n",
    "\n",
    "let M =\n",
    "    [ [ 0; 2 ], [ 2 ], proj1\n",
    "      [ 1; 2 ], [ 2 ], proj2\n",
    "      [ 2; 3 ], [ 2 ], plus\n",
    "      \n",
    "      [ 0 ], [ 0 ], id1\n",
    "      [ 1 ], [ 1 ], id1\n",
    "      [ 2 ], [ 2 ], id2\n",
    "      [ 3 ], [ 3 ], id1\n",
    "      [ 0; 2 ], [ 0; 2 ], id1\n",
    "      [ 1; 2 ], [ 1; 2 ], id1\n",
    "      [ 2; 3 ], [ 2; 3 ], id1\n",
    "      [ 0; 2 ], [ 0 ], id1\n",
    "      [ 1; 2 ], [ 1 ], id1\n",
    "      [ 2; 3 ], [ 3 ], id1 ]\n",
    "\n",
    "let F = Sheaf.make (X, M)"
   ]
  },
  {
   "cell_type": "markdown",
   "metadata": {},
   "source": [
    "The global sections of the sheaf are isomorphic to the zeroth cohomology,\n",
    "$$ F(X) = H^0 (X,F). $$\n",
    "\n",
    "For our XOR gate, global sections correspond to the truth table:\n",
    "\n",
    "```\n",
    "In   Out\n",
    "0 0 | 0\n",
    "0 1 | 1\n",
    "1 0 | 1\n",
    "1 1 | 0 \n",
    "```\n",
    "\n",
    "The truth table is spanned by the middle two rows, thus the space of global sections is two-dimensional.\n",
    "We can confirm this by computing the cohomology."
   ]
  },
  {
   "cell_type": "markdown",
   "metadata": {},
   "source": [
    "To check just the dimensions, we compute the cobetti numers, $\\beta^i := \\mathrm{dim} H^i(X,F)$: "
   ]
  },
  {
   "cell_type": "code",
   "execution_count": 14,
   "metadata": {},
   "outputs": [
    {
     "data": {
      "text/plain": [
       "seq [Nat 2; Nat 0]"
      ]
     },
     "execution_count": 14,
     "metadata": {},
     "output_type": "execute_result"
    }
   ],
   "source": [
    "Sheaf.cobetti F"
   ]
  },
  {
   "cell_type": "markdown",
   "metadata": {},
   "source": [
    "We can also get a basis for the global sections by computing the sheaf cohomology:"
   ]
  },
  {
   "cell_type": "code",
   "execution_count": 15,
   "metadata": {},
   "outputs": [
    {
     "data": {
      "text/plain": [
       "[[1; 1]\n",
       " [1; 0]\n",
       " [1; 1]\n",
       " [1; 0]\n",
       " [0; 1]]\n",
       "\n",
       "[[]\n",
       " []\n",
       " []]"
      ]
     },
     "execution_count": 15,
     "metadata": {},
     "output_type": "execute_result"
    }
   ],
   "source": [
    "Sheaf.cohomology F"
   ]
  },
  {
   "cell_type": "markdown",
   "metadata": {},
   "source": [
    "(The rows of these matrices are always ordered lexicographically with respect to the input labels.)\n",
    "\n",
    "A basis for $H^0(X,F)$ is then\n",
    "\n",
    "$$\n",
    "\\begin{matrix}\n",
    "\\{0\\}\\\\\n",
    "\\{1\\}\\\\\n",
    "\\{2_1\\}\\\\\n",
    "\\{2_2\\}\\\\\n",
    "\\{3\\}\n",
    "\\end{matrix}\n",
    "\\begin{bmatrix}\n",
    "1 & 1\\\\\n",
    "1 & 0\\\\\n",
    "1 & 1\\\\\n",
    "1 & 0\\\\\n",
    "0 & 1\n",
    "\\end{bmatrix}$$\n",
    "\n",
    "We can read off two rows of the truth table from the values of the inputs $\\{0\\}, \\{1\\}$, and the output $\\{3\\}$ in each column of the basis: \n",
    "\n",
    "```\n",
    "{0} {1}   {3}\n",
    " 1   1  |  0\n",
    " 1   0  |  1\n",
    "```\n",
    "\n",
    "The remaining two rows are obtained by linear combinations."
   ]
  }
 ],
 "metadata": {
  "kernelspec": {
   "display_name": "F#",
   "language": "fsharp",
   "name": "ifsharp"
  },
  "language": "fsharp",
  "language_info": {
   "codemirror_mode": "",
   "file_extension": ".fs",
   "mimetype": "text/x-fsharp",
   "name": "fsharp",
   "nbconvert_exporter": "",
   "pygments_lexer": "",
   "version": "4.3.1.0"
  }
 },
 "nbformat": 4,
 "nbformat_minor": 2
}
