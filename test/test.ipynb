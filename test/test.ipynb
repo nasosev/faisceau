{
 "cells": [
  {
   "cell_type": "code",
   "execution_count": 46,
   "metadata": {
    "scrolled": false
   },
   "outputs": [],
   "source": [
    "#r @\"..\\bin\\Release\\net472\\FsCheck.dll\""
   ]
  },
  {
   "cell_type": "code",
   "execution_count": 47,
   "metadata": {},
   "outputs": [],
   "source": [
    "#load \"loader_test.fsx\""
   ]
  },
  {
   "cell_type": "code",
   "execution_count": 48,
   "metadata": {
    "scrolled": false
   },
   "outputs": [
    {
     "data": {
      "text/plain": [
       "--- Checking MatrixTests ---\r\n",
       "MatrixTests.transpose is idempotent-Ok, passed 100 tests.\r\n",
       "MatrixTests.sum is commutative-Ok, passed 100 tests.\r\n",
       "MatrixTests.product is associative-Ok, passed 100 tests.\r\n",
       "MatrixTests.trace is cyclic-Ok, passed 100 tests.\r\n",
       "MatrixTests.trace commutes with tensor product-Ok, passed 100 tests.\r\n",
       "MatrixTests.rank-nullity-Ok, passed 100 tests.\r\n",
       "MatrixTests.determinant of product is product of determinants-Ok, passed 100 tests.\r\n",
       "MatrixTests.determinant of tensor product is product of determinants-Ok, passed 100 tests.\r\n",
       "MatrixTests.product with inverse is identity-Ok, passed 100 tests.\r\n",
       "\r\n",
       "--- Checking SimplexTests ---\r\n",
       "SimplexTests.closure is idempotent-Ok, passed 100 tests.\r\n",
       "SimplexTests.closure of toplex is identity-Ok, passed 100 tests.\r\n",
       "SimplexTests.euler characteristic of chain and homology coincide-Ok, passed 100 tests.\r\n",
       "SimplexTests.betti is dimension of homology-Ok, passed 100 tests.\r\n",
       "SimplexTests.bettis exceeds reduced bettis by one in degree zero and coincide elsewhere-Ok, passed 100 tests.\r\n",
       "SimplexTests.boundary is nilpotent-Ok, passed 100 tests.\r\n",
       "\r\n"
      ]
     },
     "metadata": {},
     "output_type": "display_data"
    }
   ],
   "source": [
    "let endSize = 20\n",
    "RandomTests.testAll (endSize)"
   ]
  },
  {
   "cell_type": "code",
   "execution_count": null,
   "metadata": {},
   "outputs": [],
   "source": [
    "SpecificTests.testAll ()"
   ]
  },
  {
   "cell_type": "code",
   "execution_count": null,
   "metadata": {},
   "outputs": [],
   "source": []
  }
 ],
 "metadata": {
  "kernelspec": {
   "display_name": "F#",
   "language": "fsharp",
   "name": "ifsharp"
  },
  "language": "fsharp",
  "language_info": {
   "codemirror_mode": "",
   "file_extension": ".fs",
   "mimetype": "text/x-fsharp",
   "name": "fsharp",
   "nbconvert_exporter": "",
   "pygments_lexer": "",
   "version": "4.3.1.0"
  }
 },
 "nbformat": 4,
 "nbformat_minor": 2
}
