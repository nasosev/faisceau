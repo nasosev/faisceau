{
 "cells": [
  {
   "cell_type": "code",
   "execution_count": 1,
   "metadata": {},
   "outputs": [],
   "source": [
    "#r @\"..\\bin\\Release\\net472\\FsCheck.dll\""
   ]
  },
  {
   "cell_type": "code",
   "execution_count": 2,
   "metadata": {},
   "outputs": [],
   "source": [
    "#load \"loader_test.fsx\""
   ]
  },
  {
   "cell_type": "code",
   "execution_count": 3,
   "metadata": {},
   "outputs": [
    {
     "name": "stdout",
     "output_type": "stream",
     "text": [
      "--- Checking MatrixTests ---\n",
      "MatrixTests.transpose is idempotent-Ok, passed 100 tests.\n",
      "MatrixTests.sum is commutative-Ok, passed 100 tests.\n",
      "MatrixTests.product is associative-Ok, passed 100 tests.\n",
      "MatrixTests.trace is cyclic-Ok, passed 100 tests.\n",
      "MatrixTests.trace commutes with tensor product-Ok, passed 100 tests.\n",
      "MatrixTests.rank-nullity-Ok, passed 100 tests.\n",
      "MatrixTests.determinant of product is product of determinants-Ok, passed 100 tests.\n",
      "MatrixTests.determinant of tensor product is product of determinants-Ok, passed 100 tests.\n",
      "MatrixTests.product with inverse is identity-Ok, passed 100 tests.\n",
      "\n",
      "--- Checking ComplexTests ---\n",
      "ComplexTests.closure is idempotent-Ok, passed 100 tests.\n",
      "ComplexTests.closure of facets is identity-Ok, passed 100 tests.\n",
      "ComplexTests.euler characteristic of chain and homology coincide-Ok, passed 100 tests.\n",
      "ComplexTests.betti is dimension of homology-Ok, passed 100 tests.\n",
      "ComplexTests.bettis exceeds reduced bettis by one in degree zero and coincide elsewhere-Ok, passed 100 tests.\n",
      "ComplexTests.boundary is nilpotent-Ok, passed 100 tests.\n",
      "\n",
      "--- Checking SheafTests ---\n",
      "SheafTests.coboundary chain of constant sheaf is dual to boundary chain of complex-Ok, passed 100 tests.\n",
      "SheafTests.cobetti and betti numbers of complex coincide-Ok, passed 100 tests.\n",
      "\n"
     ]
    },
    {
     "data": {
      "text/html": [
       "<null>"
      ]
     },
     "execution_count": 3,
     "metadata": {},
     "output_type": "execute_result"
    }
   ],
   "source": [
    "let endSize = 20\n",
    "RandomTests.testAll (endSize)"
   ]
  },
  {
   "cell_type": "code",
   "execution_count": 4,
   "metadata": {},
   "outputs": [
    {
     "name": "stdout",
     "output_type": "stream",
     "text": [
      "--- Checking ComplexTests ---\n",
      "ComplexTests.relative homology of ball mod boundary is reduced homology of sphere-Ok, passed 1 test.\n",
      "ComplexTests.relative homology of annulus mod boundary, half-Ok, passed 1 test.\n",
      "ComplexTests.smallest known triangulation of the Poincaré homology 3-sphere with 16 vertices and 90 facets-Ok, passed 1 test.\n",
      "ComplexTests.unique vertex-minimal 9-vertex triangulation of the complex projective plane CP^2-Ok, passed 1 test.\n",
      "ComplexTests.vertex-minimal 16-vertex triangulation of the real projective 4-space RP^4-Ok, passed 1 test.\n",
      "ComplexTests.vertex-transitive, vertex-minimal 16-vertex triangulation of the K3 surface-Ok, passed 1 test.\n",
      "ComplexTests.homogeneous space SU2/SO3-Ok, passed 1 test.\n",
      "\n"
     ]
    },
    {
     "data": {
      "text/html": [
       "<null>"
      ]
     },
     "execution_count": 4,
     "metadata": {},
     "output_type": "execute_result"
    }
   ],
   "source": [
    "SpecificTests.testAll ()"
   ]
  }
 ],
 "metadata": {
  "kernelspec": {
   "display_name": ".NET (F#)",
   "language": "F#",
   "name": ".net-fsharp"
  },
  "language": "fsharp",
  "language_info": {
   "file_extension": ".fs",
   "mimetype": "text/x-fsharp",
   "name": "C#",
   "pygments_lexer": "fsharp",
   "version": "4.5"
  }
 },
 "nbformat": 4,
 "nbformat_minor": 4
}
