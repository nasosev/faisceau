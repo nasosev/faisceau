{
 "cells": [
  {
   "cell_type": "code",
   "execution_count": 1,
   "metadata": {
    "scrolled": false
   },
   "outputs": [],
   "source": [
    "#r @\"..\\bin\\Release\\net472\\FsCheck.dll\""
   ]
  },
  {
   "cell_type": "code",
   "execution_count": 2,
   "metadata": {},
   "outputs": [
    {
     "name": "stderr",
     "output_type": "stream",
     "text": [
      "This construct is for ML compatibility. The syntax '(typ,...,typ) ident' is not used in F# code. Consider using 'ident<typ,...,typ>' instead. You can disable this warning by using '--mlcompatibility' or '--nowarn:62'.\r\n",
      "This construct is for ML compatibility. The syntax '(typ,...,typ) ident' is not used in F# code. Consider using 'ident<typ,...,typ>' instead. You can disable this warning by using '--mlcompatibility' or '--nowarn:62'.\r\n",
      "This construct is for ML compatibility. The syntax '(typ,...,typ) ident' is not used in F# code. Consider using 'ident<typ,...,typ>' instead. You can disable this warning by using '--mlcompatibility' or '--nowarn:62'."
     ]
    }
   ],
   "source": [
    "#load \"loader_test.fsx\""
   ]
  },
  {
   "cell_type": "code",
   "execution_count": 5,
   "metadata": {
    "scrolled": false
   },
   "outputs": [
    {
     "data": {
      "text/plain": [
       "--- Checking MatrixTests ---\r\n",
       "MatrixTests.transpose is idempotent-Ok, passed 100 tests.\r\n",
       "MatrixTests.sum is commutative-Ok, passed 100 tests.\r\n",
       "MatrixTests.product is associative-Ok, passed 100 tests.\r\n",
       "MatrixTests.trace is cyclic-Ok, passed 100 tests.\r\n",
       "MatrixTests.trace commutes with tensor product-Ok, passed 100 tests.\r\n",
       "MatrixTests.rank-nullity-Ok, passed 100 tests.\r\n",
       "MatrixTests.determinant of product is product of determinants-Ok, passed 100 tests.\r\n",
       "MatrixTests.determinant of tensor product is product of determinants-Ok, passed 100 tests.\r\n",
       "MatrixTests.product with inverse is identity-Ok, passed 100 tests.\r\n",
       "\r\n",
       "--- Checking ComplexTests ---\r\n",
       "ComplexTests.closure is idempotent-Ok, passed 100 tests.\r\n",
       "ComplexTests.closure of facets is identity-Ok, passed 100 tests.\r\n",
       "ComplexTests.euler characteristic of chain and homology coincide-Ok, passed 100 tests.\r\n",
       "ComplexTests.betti is dimension of homology-Ok, passed 100 tests.\r\n",
       "ComplexTests.bettis exceeds reduced bettis by one in degree zero and coincide elsewhere-Ok, passed 100 tests.\r\n",
       "ComplexTests.boundary is nilpotent-Ok, passed 100 tests.\r\n",
       "\r\n",
       "--- Checking SheafTests ---\r\n",
       "SheafTests.coboundary chain of constant sheaf is dual to boundary chain of complex-Ok, passed 100 tests.\r\n",
       "SheafTests.cobetti and betti numbers of complex coincide-Ok, passed 100 tests.\r\n",
       "\r\n"
      ]
     },
     "metadata": {},
     "output_type": "display_data"
    }
   ],
   "source": [
    "let endSize = 20\n",
    "RandomTests.testAll (endSize)"
   ]
  },
  {
   "cell_type": "code",
   "execution_count": 6,
   "metadata": {},
   "outputs": [
    {
     "data": {
      "text/plain": [
       "--- Checking ComplexTests ---\r\n",
       "ComplexTests.relative homology of ball mod boundary is reduced homology of sphere-Ok, passed 1 test.\r\n",
       "ComplexTests.relative homology of annulus mod boundary, half-Ok, passed 1 test.\r\n",
       "ComplexTests.smallest known triangulation of the Poincaré homology 3-sphere with 16 vertices and 90 facets-Ok, passed 1 test.\r\n",
       "ComplexTests.unique vertex-minimal 9-vertex triangulation of the complex projective plane CP^2-Ok, passed 1 test.\r\n",
       "ComplexTests.vertex-minimal 16-vertex triangulation of the real projective 4-space RP^4-Ok, passed 1 test.\r\n",
       "ComplexTests.vertex-transitive, vertex-minimal 16-vertex triangulation of the K3 surface-Ok, passed 1 test.\r\n",
       "ComplexTests.homogeneous space SU2/SO3-Ok, passed 1 test.\r\n",
       "\r\n"
      ]
     },
     "metadata": {},
     "output_type": "display_data"
    }
   ],
   "source": [
    "SpecificTests.testAll ()"
   ]
  }
 ],
 "metadata": {
  "kernelspec": {
   "display_name": "F#",
   "language": "fsharp",
   "name": "ifsharp"
  },
  "language": "fsharp",
  "language_info": {
   "codemirror_mode": "",
   "file_extension": ".fs",
   "mimetype": "text/x-fsharp",
   "name": "fsharp",
   "nbconvert_exporter": "",
   "pygments_lexer": "",
   "version": "4.3.1.0"
  }
 },
 "nbformat": 4,
 "nbformat_minor": 2
}
